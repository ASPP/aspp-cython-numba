{
 "cells": [
  {
   "cell_type": "markdown",
   "metadata": {
    "slideshow": {
     "slide_type": "slide"
    }
   },
   "source": [
    "# Intro to Cython and Numba"
   ]
  },
  {
   "cell_type": "markdown",
   "metadata": {
    "slideshow": {
     "slide_type": "slide"
    }
   },
   "source": [
    "# Why Cython\n",
    "\n",
    "![DevTime](whycython.png)"
   ]
  },
  {
   "cell_type": "markdown",
   "metadata": {
    "slideshow": {
     "slide_type": "slide"
    }
   },
   "source": [
    "# Why **not** Cython\n",
    "## (When not Cython)\n",
    "\n"
   ]
  },
  {
   "cell_type": "markdown",
   "metadata": {
    "slideshow": {
     "slide_type": "slide"
    }
   },
   "source": [
    "## Outline\n",
    "\n",
    "* Cython\n",
    "* Numba\n",
    "* Fight!\n"
   ]
  },
  {
   "cell_type": "markdown",
   "metadata": {
    "slideshow": {
     "slide_type": "slide"
    }
   },
   "source": [
    "# Part 1: cython"
   ]
  },
  {
   "cell_type": "markdown",
   "metadata": {
    "slideshow": {
     "slide_type": "fragment"
    }
   },
   "source": [
    "We want to integrate the function $f(x) = x^4 - 3x$."
   ]
  },
  {
   "cell_type": "code",
   "execution_count": null,
   "metadata": {
    "slideshow": {
     "slide_type": "slide"
    }
   },
   "outputs": [],
   "source": [
    "def f(x):\n",
    "    y = x**4 - 3*x\n",
    "    return y\n",
    "    \n",
    "def integrate_f(a, b, n):\n",
    "    dx = (b - a) / n\n",
    "    dx2 = dx / 2\n",
    "    s = f(a) * dx2\n",
    "    for i in range(1, n):\n",
    "        s += f(a + i * dx) * dx\n",
    "    s += f(b) * dx2\n",
    "    return s\n",
    "\n",
    "integrate_f(-100, 100, 100_000)"
   ]
  },
  {
   "cell_type": "markdown",
   "metadata": {
    "slideshow": {
     "slide_type": "slide"
    }
   },
   "source": [
    "Now, let's time this:"
   ]
  },
  {
   "cell_type": "code",
   "execution_count": null,
   "metadata": {
    "slideshow": {
     "slide_type": "-"
    }
   },
   "outputs": [],
   "source": [
    "%timeit integrate_f(-100, 100, 100_000)"
   ]
  },
  {
   "cell_type": "markdown",
   "metadata": {
    "slideshow": {
     "slide_type": "fragment"
    }
   },
   "source": [
    "Not too bad, but this can add up. Let's see if Cython can do better:"
   ]
  },
  {
   "cell_type": "code",
   "execution_count": null,
   "metadata": {
    "slideshow": {
     "slide_type": "slide"
    }
   },
   "outputs": [],
   "source": [
    "%load_ext cython"
   ]
  },
  {
   "cell_type": "code",
   "execution_count": null,
   "metadata": {
    "slideshow": {
     "slide_type": "fragment"
    }
   },
   "outputs": [],
   "source": [
    "%%cython\n",
    "\n",
    "def f2(x):\n",
    "    y = x**4 - 3*x\n",
    "    return y\n",
    "    \n",
    "def integrate_f2(a, b, n):\n",
    "    dx = (b - a) / n\n",
    "    dx2 = dx / 2\n",
    "    s = f2(a) * dx2\n",
    "    for i in range(1, n):\n",
    "        s += f2(a + i * dx) * dx\n",
    "    s += f2(b) * dx2\n",
    "    return s"
   ]
  },
  {
   "cell_type": "code",
   "execution_count": null,
   "metadata": {
    "slideshow": {
     "slide_type": "slide"
    }
   },
   "outputs": [],
   "source": [
    "f2"
   ]
  },
  {
   "cell_type": "code",
   "execution_count": null,
   "metadata": {
    "slideshow": {
     "slide_type": "fragment"
    }
   },
   "outputs": [],
   "source": [
    "import sys\n",
    "sys.modules[f2.__module__]"
   ]
  },
  {
   "cell_type": "code",
   "execution_count": null,
   "metadata": {
    "slideshow": {
     "slide_type": "fragment"
    }
   },
   "outputs": [],
   "source": [
    "integrate_f2(-100, 100, 100_000)"
   ]
  },
  {
   "cell_type": "code",
   "execution_count": null,
   "metadata": {
    "slideshow": {
     "slide_type": "fragment"
    }
   },
   "outputs": [],
   "source": [
    "%timeit integrate_f2(-100, 100, 100_000)"
   ]
  },
  {
   "cell_type": "markdown",
   "metadata": {
    "slideshow": {
     "slide_type": "fragment"
    }
   },
   "source": [
    "That's a little bit faster, which is nice since all we did was to call Cython on the exact same code. But can we do better?"
   ]
  },
  {
   "cell_type": "markdown",
   "metadata": {
    "slideshow": {
     "slide_type": "slide"
    }
   },
   "source": [
    "### manual type specialization"
   ]
  },
  {
   "cell_type": "code",
   "execution_count": null,
   "metadata": {
    "slideshow": {
     "slide_type": "fragment"
    }
   },
   "outputs": [],
   "source": [
    "%%cython\n",
    "\n",
    "def f3(double x):\n",
    "    y = x**4 - 3*x\n",
    "    return y\n",
    "    \n",
    "def integrate_f3(double a, double b, int n):\n",
    "    dx = (b - a) / n\n",
    "    dx2 = dx / 2\n",
    "    s = f3(a) * dx2\n",
    "    for i in range(1, n):\n",
    "        s += f3(a + i * dx) * dx\n",
    "    s += f3(b) * dx2\n",
    "    return s"
   ]
  },
  {
   "cell_type": "code",
   "execution_count": null,
   "metadata": {
    "slideshow": {
     "slide_type": "fragment"
    }
   },
   "outputs": [],
   "source": [
    "%timeit integrate_f3(-100, 100, 100_000)"
   ]
  },
  {
   "cell_type": "markdown",
   "metadata": {
    "slideshow": {
     "slide_type": "slide"
    }
   },
   "source": [
    "The final bit of \"easy\" Cython optimization is \"declaring\" the variables inside the function:"
   ]
  },
  {
   "cell_type": "code",
   "execution_count": null,
   "metadata": {
    "slideshow": {
     "slide_type": "fragment"
    }
   },
   "outputs": [],
   "source": [
    "%%cython\n",
    "\n",
    "def f4(double x):\n",
    "    y = x**4 - 3*x\n",
    "    return y\n",
    "    \n",
    "def integrate_f4(double a, double b, int n):\n",
    "    cdef double dx = (b - a) / n\n",
    "    cdef double dx2 = dx / 2\n",
    "    cdef double s = f4(a) * dx2\n",
    "    cdef int i\n",
    "\n",
    "    for i in range(1, n):\n",
    "        s += f4(a + i * dx) * dx\n",
    "    s += f4(b) * dx2\n",
    "    return s"
   ]
  },
  {
   "cell_type": "code",
   "execution_count": null,
   "metadata": {
    "slideshow": {
     "slide_type": "fragment"
    }
   },
   "outputs": [],
   "source": [
    "%timeit integrate_f4(-100, 100, 100_000)"
   ]
  },
  {
   "cell_type": "markdown",
   "metadata": {
    "slideshow": {
     "slide_type": "slide"
    }
   },
   "source": [
    "3× speedup with so little effort is pretty nice. What else can we do?\n",
    "\n",
    "Cython has a nice \"-a\" flag (for annotation) that can provide clues about why your code is slow.\n",
    "\n",
    "`%%cython -a`"
   ]
  },
  {
   "cell_type": "code",
   "execution_count": null,
   "metadata": {
    "slideshow": {
     "slide_type": "subslide"
    }
   },
   "outputs": [],
   "source": [
    "%%cython -a\n",
    "\n",
    "def f4(double x):\n",
    "    y = x**4 - 3*x\n",
    "    return y\n",
    "    \n",
    "def integrate_f4(double a, double b, int n):\n",
    "    cdef:\n",
    "        double dx = (b - a) / n\n",
    "        double dx2 = dx / 2\n",
    "        double s = f4(a) * dx2\n",
    "        int i = 0\n",
    "    for i in range(1, n):\n",
    "        s += f4(a + i * dx) * dx\n",
    "    s += f4(b) * dx2\n",
    "    return s"
   ]
  },
  {
   "cell_type": "markdown",
   "metadata": {
    "slideshow": {
     "slide_type": "slide"
    }
   },
   "source": [
    "## Exercise 1!\n",
    "\n",
    "Head over to `cython-primes/exercise.ipynb`. See instructions there."
   ]
  },
  {
   "cell_type": "markdown",
   "metadata": {
    "slideshow": {
     "slide_type": "slide"
    }
   },
   "source": [
    "That's a lot of yellow still! How do we reduce this?"
   ]
  },
  {
   "cell_type": "markdown",
   "metadata": {
    "slideshow": {
     "slide_type": "slide"
    }
   },
   "source": [
    "## Function specialization"
   ]
  },
  {
   "cell_type": "code",
   "execution_count": null,
   "metadata": {
    "scrolled": true,
    "slideshow": {
     "slide_type": "subslide"
    }
   },
   "outputs": [],
   "source": [
    "%%cython -a\n",
    "\n",
    "def f5(double x):\n",
    "    y = (x*x*x - 3)*x\n",
    "    return y\n",
    "def integrate_f5(double a, double b, int n):\n",
    "    cdef:\n",
    "        double dx = (b - a) / n\n",
    "        double dx2 = dx / 2\n",
    "        double s = f5(a) * dx2\n",
    "        int i = 0\n",
    "    for i in range(1, n):\n",
    "        s += f5(a + i * dx) * dx\n",
    "    s += f5(b) * dx2\n",
    "    return s"
   ]
  },
  {
   "cell_type": "code",
   "execution_count": null,
   "metadata": {
    "slideshow": {
     "slide_type": "subslide"
    }
   },
   "outputs": [],
   "source": [
    "%timeit integrate_f5(-100, 100, 100_000)"
   ]
  },
  {
   "cell_type": "code",
   "execution_count": null,
   "metadata": {
    "slideshow": {
     "slide_type": "-"
    }
   },
   "outputs": [],
   "source": [
    "f5"
   ]
  },
  {
   "cell_type": "markdown",
   "metadata": {
    "slideshow": {
     "slide_type": "slide"
    }
   },
   "source": [
    "### summary of python vs. cython\n",
    "\n",
    "```\n",
    "  pure python:                 35 ms\n",
    "  python-compatible cython:    24 ms \n",
    "  specialization of arguments: 18 ms\n",
    "  full type specilization:     13 ms\n",
    "  c-only function:              6.1 ms\n",
    "  simplified expression form:   0.178 ms\n",
    "```"
   ]
  },
  {
   "cell_type": "markdown",
   "metadata": {
    "slideshow": {
     "slide_type": "slide"
    }
   },
   "source": [
    "## Exercise 2!\n",
    "\n",
    "Head over to `cython-fibbo/exercise.ipynb`. Watch out — this one is tricky."
   ]
  },
  {
   "cell_type": "markdown",
   "metadata": {
    "slideshow": {
     "slide_type": "slide"
    }
   },
   "source": [
    "# Using Cython in production code"
   ]
  },
  {
   "cell_type": "code",
   "execution_count": null,
   "metadata": {
    "slideshow": {
     "slide_type": "subslide"
    }
   },
   "outputs": [],
   "source": [
    "%%script false\n",
    "\n",
    "# setup.py — don't run this in the notebook\n",
    "\n",
    "from distutils.core import setup\n",
    "from distutils.extension import Extension\n",
    "from Cython.Distutils import build_ext\n",
    "\n",
    "import numpy as np\n",
    "\n",
    "setup(\n",
    "  cmdclass = {'build_ext': build_ext},\n",
    "  ext_modules = [\n",
    "    Extension(\"integrate_f5\", [\"integrate_f5.pyx\"],\n",
    "              include_dirs=[np.get_include()],\n",
    "              extra_compile_args=[],\n",
    "              extra_link_args=[]),\n",
    "  ]\n",
    ")\n",
    "\n",
    "# run with 'python setup.py build_ext -i'"
   ]
  },
  {
   "cell_type": "markdown",
   "metadata": {
    "slideshow": {
     "slide_type": "slide"
    }
   },
   "source": [
    "# Exercise 3\n",
    "\n",
    "Navigate to `cython-distrib/` in a terminal, follow instructions in the `README` file there."
   ]
  },
  {
   "cell_type": "markdown",
   "metadata": {
    "slideshow": {
     "slide_type": "slide"
    }
   },
   "source": [
    "# Cython architecture"
   ]
  },
  {
   "cell_type": "markdown",
   "metadata": {
    "slideshow": {
     "slide_type": "fragment"
    }
   },
   "source": [
    "![Cython architecture](cython_architecture_small.png)"
   ]
  },
  {
   "cell_type": "markdown",
   "metadata": {
    "slideshow": {
     "slide_type": "slide"
    }
   },
   "source": [
    "## Dealing with numpy arrays"
   ]
  },
  {
   "cell_type": "code",
   "execution_count": null,
   "metadata": {
    "slideshow": {
     "slide_type": "subslide"
    }
   },
   "outputs": [],
   "source": [
    "def nth_prime(n):\n",
    "    n_found = 0\n",
    "    candidate = 2\n",
    "    while True:\n",
    "        good = True\n",
    "        for div in range(2, candidate):\n",
    "            if candidate % div == 0:\n",
    "                good = False\n",
    "                break\n",
    "        if good:\n",
    "            n_found += 1\n",
    "            if n_found == n:\n",
    "                return candidate\n",
    "        # try with the next number\n",
    "        candidate += 1"
   ]
  },
  {
   "cell_type": "code",
   "execution_count": null,
   "metadata": {
    "slideshow": {
     "slide_type": "subslide"
    }
   },
   "outputs": [],
   "source": [
    "import numpy as np\n",
    "\n",
    "def nth_prime_sieve(n):\n",
    "    n_found = 0\n",
    "    candidate = 2\n",
    "    sieve = np.empty(n-1, dtype=int)\n",
    "    \n",
    "    while True:\n",
    "        good = True\n",
    "        for div in sieve[:n_found]:\n",
    "            if candidate % div == 0:\n",
    "                good = False\n",
    "                break\n",
    "        if good:\n",
    "            n_found += 1\n",
    "            if n_found == n:\n",
    "                return candidate\n",
    "\n",
    "            sieve[n_found-1] = candidate\n",
    "\n",
    "        # try with the next number\n",
    "        candidate += 1"
   ]
  },
  {
   "cell_type": "markdown",
   "metadata": {
    "slideshow": {
     "slide_type": "slide"
    }
   },
   "source": [
    "# Exercise\n",
    "\n",
    "Head over to `cython-dot/` and open `exercise.ipynb` there. Follow instructions."
   ]
  },
  {
   "cell_type": "markdown",
   "metadata": {
    "slideshow": {
     "slide_type": "slide"
    }
   },
   "source": [
    "# Part 2: numba"
   ]
  },
  {
   "cell_type": "code",
   "execution_count": null,
   "metadata": {
    "slideshow": {
     "slide_type": "slide"
    }
   },
   "outputs": [],
   "source": [
    "from numba import jit\n",
    "\n",
    "@jit\n",
    "def f(x):\n",
    "    y = x**4 - 3*x\n",
    "    return y\n",
    "    \n",
    "@jit\n",
    "def integrate_f7(a, b, n):\n",
    "    dx = (b - a) / n\n",
    "    dx2 = dx / 2\n",
    "    s = f(a) * dx2\n",
    "    for i in range(1, n):\n",
    "        s += f(a + i * dx) * dx\n",
    "    s += f(b) * dx2\n",
    "    return s"
   ]
  },
  {
   "cell_type": "code",
   "execution_count": null,
   "metadata": {
    "slideshow": {
     "slide_type": "subslide"
    }
   },
   "outputs": [],
   "source": [
    "%%timeit -n 1 -r 1\n",
    "\n",
    "integrate_f7(-100, 100, 100_000)"
   ]
  },
  {
   "cell_type": "code",
   "execution_count": null,
   "metadata": {
    "slideshow": {
     "slide_type": "-"
    }
   },
   "outputs": [],
   "source": [
    "%timeit integrate_f7(-100, 100, 100_000) "
   ]
  },
  {
   "cell_type": "code",
   "execution_count": null,
   "metadata": {
    "slideshow": {
     "slide_type": "-"
    }
   },
   "outputs": [],
   "source": [
    "integrate_f7"
   ]
  },
  {
   "cell_type": "markdown",
   "metadata": {
    "slideshow": {
     "slide_type": "slide"
    }
   },
   "source": [
    "# Numba architecture"
   ]
  },
  {
   "cell_type": "markdown",
   "metadata": {
    "slideshow": {
     "slide_type": "fragment"
    }
   },
   "source": [
    "![Numba architecture](numba_architecture_small.png)"
   ]
  },
  {
   "cell_type": "markdown",
   "metadata": {
    "slideshow": {
     "slide_type": "slide"
    }
   },
   "source": [
    "# Why numba?\n",
    "\n",
    "- native python code\n",
    "- type flexibility\n"
   ]
  },
  {
   "cell_type": "markdown",
   "metadata": {
    "slideshow": {
     "slide_type": "slide"
    }
   },
   "source": [
    "# Exercise\n",
    "\n",
    "Open `numba-prime/exercise.ipynb` and follow the instructions there."
   ]
  },
  {
   "cell_type": "markdown",
   "metadata": {
    "slideshow": {
     "slide_type": "slide"
    }
   },
   "source": [
    "# Exercise\n",
    "\n",
    "Open `numba-fibbo/exercise.ipynb` and follow the instructions there. Warning: this is not as simple as it looks."
   ]
  },
  {
   "cell_type": "markdown",
   "metadata": {
    "slideshow": {
     "slide_type": "slide"
    }
   },
   "source": [
    "# numba nopython and python modes"
   ]
  },
  {
   "cell_type": "code",
   "execution_count": null,
   "metadata": {
    "slideshow": {
     "slide_type": "fragment"
    }
   },
   "outputs": [],
   "source": [
    "import numba\n",
    "\n",
    "@numba.jit\n",
    "def f(x):\n",
    "    y = x*5 + x\n",
    "    return y"
   ]
  },
  {
   "cell_type": "code",
   "execution_count": null,
   "metadata": {
    "slideshow": {
     "slide_type": "-"
    }
   },
   "outputs": [],
   "source": [
    "f(1)"
   ]
  },
  {
   "cell_type": "code",
   "execution_count": null,
   "metadata": {
    "slideshow": {
     "slide_type": "fragment"
    }
   },
   "outputs": [],
   "source": [
    "import numpy as np\n",
    "x = np.eye(3)\n",
    "print('x:', x)\n",
    "print()\n",
    "print('f(x):', f(x))"
   ]
  },
  {
   "cell_type": "code",
   "execution_count": null,
   "metadata": {
    "slideshow": {
     "slide_type": "subslide"
    }
   },
   "outputs": [],
   "source": [
    "f('abc')"
   ]
  },
  {
   "cell_type": "code",
   "execution_count": null,
   "metadata": {
    "slideshow": {
     "slide_type": "fragment"
    }
   },
   "outputs": [],
   "source": [
    "f"
   ]
  },
  {
   "cell_type": "code",
   "execution_count": null,
   "metadata": {
    "slideshow": {
     "slide_type": "-"
    }
   },
   "outputs": [],
   "source": [
    "f.signatures"
   ]
  },
  {
   "cell_type": "code",
   "execution_count": null,
   "metadata": {
    "slideshow": {
     "slide_type": "-"
    }
   },
   "outputs": [],
   "source": [
    "f.nopython_signatures"
   ]
  },
  {
   "cell_type": "code",
   "execution_count": null,
   "metadata": {
    "slideshow": {
     "slide_type": "slide"
    }
   },
   "outputs": [],
   "source": [
    "import numba\n",
    "\n",
    "@numba.jit(numba.types.int32(numba.types.int32))\n",
    "def f(x):\n",
    "    y = x**4 - 3*x\n",
    "    return y"
   ]
  },
  {
   "cell_type": "code",
   "execution_count": null,
   "metadata": {
    "slideshow": {
     "slide_type": "-"
    }
   },
   "outputs": [],
   "source": [
    "f(33)"
   ]
  },
  {
   "cell_type": "code",
   "execution_count": null,
   "metadata": {
    "slideshow": {
     "slide_type": "-"
    }
   },
   "outputs": [],
   "source": [
    "f(33.5)"
   ]
  },
  {
   "cell_type": "code",
   "execution_count": null,
   "metadata": {
    "slideshow": {
     "slide_type": "subslide"
    }
   },
   "outputs": [],
   "source": [
    "f(np.eye(3))"
   ]
  },
  {
   "cell_type": "code",
   "execution_count": null,
   "metadata": {
    "slideshow": {
     "slide_type": "subslide"
    }
   },
   "outputs": [],
   "source": [
    "f.signatures"
   ]
  },
  {
   "cell_type": "markdown",
   "metadata": {
    "slideshow": {
     "slide_type": "subslide"
    }
   },
   "source": [
    "When `jit()` is called with a set of types, the compilation is *eager* (happens immediately).\n",
    "\n",
    "Doing this allows precise control over types.\n",
    "\n",
    "It is also possible to require `nopython` mode. Numba will raise an error if this is not possible:"
   ]
  },
  {
   "cell_type": "code",
   "execution_count": null,
   "metadata": {
    "slideshow": {
     "slide_type": "-"
    }
   },
   "outputs": [],
   "source": [
    "@jit(nopython=True)\n",
    "def f(...):\n",
    "    ..."
   ]
  },
  {
   "cell_type": "markdown",
   "metadata": {
    "slideshow": {
     "slide_type": "slide"
    }
   },
   "source": [
    "# Let's not forget `numpy` (and C)"
   ]
  },
  {
   "cell_type": "code",
   "execution_count": null,
   "metadata": {
    "slideshow": {
     "slide_type": "subslide"
    }
   },
   "outputs": [],
   "source": [
    "import numpy as np\n",
    "def f(x):\n",
    "    y = x**4 - 3*x\n",
    "    return y\n",
    "\n",
    "def integrate_f8(a, b, n):   \n",
    "    dx = (b - a) / n\n",
    "    dx2  = dx / 2\n",
    "    x = np.linspace(a, b, n)\n",
    "    s = f(x)\n",
    "    s = s[0]*dx2 + s[1:-1].sum()*dx + s[-1]*dx2 \n",
    "    \n",
    "    return s\n",
    "\n",
    "integrate_f8(-100, 100, 100_000)"
   ]
  },
  {
   "cell_type": "code",
   "execution_count": null,
   "metadata": {
    "slideshow": {
     "slide_type": "-"
    }
   },
   "outputs": [],
   "source": [
    "%timeit integrate_f8(-100, 100, 100_000)"
   ]
  },
  {
   "cell_type": "code",
   "execution_count": null,
   "metadata": {
    "slideshow": {
     "slide_type": "slide"
    }
   },
   "outputs": [],
   "source": [
    "### summary of python vs. cython vs. numba vs. C\n",
    "\n",
    "pure python:                  33 ms\n",
    "python-compatible cython:     24 ms \n",
    "specialization of arguments:  18 ms\n",
    "full type specilization:      13 ms\n",
    "c-only function:               6 ms\n",
    "simplified expression form:    0.178 ms\n",
    "\n",
    "numba jit:                     0.170 ms\n",
    "\n",
    "numpy:                         7 ms\n",
    "numpy simplified expression:   0.500 ms\n",
    "    \n",
    "plain C (-O0):                 7.3 ms\n",
    "C simplified expression (-O0): 1.5 ms\n",
    "C simplified expression (-O3): 0.200 ms\n",
    "                               0.164 with -march=native\n",
    "                               0.052 with -ffast-math\n",
    "                               # https://gcc.gnu.org/wiki/FloatingPointMath"
   ]
  },
  {
   "cell_type": "markdown",
   "metadata": {
    "slideshow": {
     "slide_type": "slide"
    }
   },
   "source": [
    "# Exercise\n",
    "\n",
    "Figure out why `integrate_f8` returns a result that is slightly different than the previous functions."
   ]
  },
  {
   "cell_type": "markdown",
   "metadata": {
    "slideshow": {
     "slide_type": "slide"
    }
   },
   "source": [
    "# Side demo\n",
    "\n",
    "`c-integrate/` directory contains C code that can be compiled and used as a benchmark to compare to Cython and Numba."
   ]
  },
  {
   "cell_type": "markdown",
   "metadata": {
    "slideshow": {
     "slide_type": "slide"
    }
   },
   "source": [
    "# Automatic parallelization in numba"
   ]
  },
  {
   "cell_type": "code",
   "execution_count": null,
   "metadata": {
    "slideshow": {
     "slide_type": "subslide"
    }
   },
   "outputs": [],
   "source": [
    "def trig_ident_np(x):\n",
    "    return (np.sin(x)**2 + np.cos(x)**2 +\n",
    "            np.sin(x)**2 + np.cos(x)**2 +\n",
    "            np.sin(x)**2 + np.cos(x)**2 +\n",
    "            np.sin(x)**2 + np.cos(x)**2).sum()/4\n",
    "\n",
    "@jit\n",
    "def trig_ident_jit(x):\n",
    "    s = 0    \n",
    "    for i in range(x.shape[0]):\n",
    "        for j in range(x.shape[1]):\n",
    "            s += (np.sin(x[i,j])**2 + np.cos(x[i,j])**2 +\n",
    "                  np.sin(x[i,j])**2 + np.cos(x[i,j])**2 +\n",
    "                  np.sin(x[i,j])**2 + np.cos(x[i,j])**2 +\n",
    "                  np.sin(x[i,j])**2 + np.cos(x[i,j])**2) / 4\n",
    "    return s\n",
    "\n",
    "@jit(parallel=True)\n",
    "def trig_ident_jitp(x):\n",
    "    return (np.sin(x)**2 + np.cos(x)**2 +\n",
    "            np.sin(x)**2 + np.cos(x)**2 +\n",
    "            np.sin(x)**2 + np.cos(x)**2 +\n",
    "            np.sin(x)**2 + np.cos(x)**2).sum()/4"
   ]
  },
  {
   "cell_type": "code",
   "execution_count": null,
   "metadata": {
    "slideshow": {
     "slide_type": "subslide"
    }
   },
   "outputs": [],
   "source": [
    "x = np.random.randn(5,5)\n",
    "x"
   ]
  },
  {
   "cell_type": "code",
   "execution_count": null,
   "metadata": {
    "slideshow": {
     "slide_type": "-"
    }
   },
   "outputs": [],
   "source": [
    "trig_ident_np(x)"
   ]
  },
  {
   "cell_type": "code",
   "execution_count": null,
   "metadata": {
    "slideshow": {
     "slide_type": "subslide"
    }
   },
   "outputs": [],
   "source": [
    "x = np.random.randn(500, 50_000)"
   ]
  },
  {
   "cell_type": "code",
   "execution_count": null,
   "metadata": {
    "slideshow": {
     "slide_type": "-"
    }
   },
   "outputs": [],
   "source": [
    "%timeit -r 1 trig_ident_np(x)"
   ]
  },
  {
   "cell_type": "code",
   "execution_count": null,
   "metadata": {
    "slideshow": {
     "slide_type": "-"
    }
   },
   "outputs": [],
   "source": [
    "%timeit trig_ident_jit(x)"
   ]
  },
  {
   "cell_type": "code",
   "execution_count": null,
   "metadata": {
    "slideshow": {
     "slide_type": "-"
    }
   },
   "outputs": [],
   "source": [
    "%timeit trig_ident_jitp(x)"
   ]
  },
  {
   "cell_type": "markdown",
   "metadata": {
    "slideshow": {
     "slide_type": "slide"
    }
   },
   "source": [
    "# Exercise\n",
    "\n",
    "Open `numba-dot/exercise.ipynb`, see instructions therein."
   ]
  },
  {
   "cell_type": "markdown",
   "metadata": {
    "slideshow": {
     "slide_type": "slide"
    }
   },
   "source": [
    "# Stuff I didn't talk about, slide 1 / n"
   ]
  },
  {
   "cell_type": "markdown",
   "metadata": {
    "slideshow": {
     "slide_type": "fragment"
    }
   },
   "source": [
    "## Cython\n",
    "\n",
    "* releasing the GIL    \n",
    "![A bullfinch, CC BY-SA 3.0 https://commons.wikimedia.org/w/index.php?title=User:Sp.herp](Red-headed_Bullfinch_small.jpg)\n",
    "\n",
    "\n",
    "* threads in Cython\n",
    "![Threads, CC BY 2.0 https://www.flickr.com/people/10506540@N07](Embroidery_Floss_Multi-Colored_10-21-09_IMG_8048_small.jpg)\n",
    "\n",
    "* OpenMP\n",
    "![OpenMP logo](openmp_lg_transparent_small.gif)\n",
    "\n",
    "* Numba for the GPU\n",
    "![Nvidia card](NVIDIA-Tesla-K20X_small.jpg)\n"
   ]
  },
  {
   "cell_type": "markdown",
   "metadata": {
    "slideshow": {
     "slide_type": "slide"
    }
   },
   "source": [
    "# MPI vs. multiprocessing vs. threading vs. numba"
   ]
  },
  {
   "cell_type": "code",
   "execution_count": null,
   "metadata": {
    "slideshow": {
     "slide_type": "skip"
    }
   },
   "outputs": [],
   "source": []
  },
  {
   "cell_type": "markdown",
   "metadata": {
    "slideshow": {
     "slide_type": "slide"
    }
   },
   "source": [
    "# Concluding remarks\n",
    "\n",
    "Some pros and cons about Cython and Numba"
   ]
  },
  {
   "cell_type": "markdown",
   "metadata": {
    "slideshow": {
     "slide_type": "subslide"
    }
   },
   "source": [
    "- Cython pros:\n",
    "  * very wide support\n",
    "  * easy to distribute compiled code to most users\n",
    "  * quite developed optimizing workflow (e.g, `%%cython -a`)\n",
    "- Cython cons:\n",
    "  * need to use a new language\n",
    "  * compiled code\n"
   ]
  },
  {
   "cell_type": "markdown",
   "metadata": {
    "slideshow": {
     "slide_type": "subslide"
    }
   },
   "source": [
    "- Numba pros:\n",
    "  * quite easy to use, especially if you're starting from Cython code\n",
    "  * often eye-popping, face-melting performance\n",
    "- Numba cons:\n",
    "  * problematic to install outside of conda/pip\n",
    "  * hard to optimise. If it's slow, you have to guess (though they are helpful on mailing list)\n",
    "  * many parts of Python still unsupported, e.g. dicts.\n",
    "  * project still young and some people are paranoid that it could disappear"
   ]
  },
  {
   "cell_type": "markdown",
   "metadata": {
    "slideshow": {
     "slide_type": "slide"
    }
   },
   "source": [
    "# Documentation\n",
    "\n",
    "- Exercises and repo: https://github.com/ASPP/aspp-cython-numba\n",
    "- This notebook: https://github.com/ASPP/aspp-cython-numba/blob/master/lecture/Python%20vs%20Cython%20vs%20Numba.ipynb\n",
    "- Cython:\n",
    "  - https://cython.readthedocs.io/en/latest/\n",
    "  - https://cython.readthedocs.io/en/latest/src/userguide/numpy_tutorial.html\n",
    "- Numba:\n",
    "  - http://numba.pydata.org/numba-doc/latest/index.html"
   ]
  },
  {
   "cell_type": "code",
   "execution_count": null,
   "metadata": {
    "slideshow": {
     "slide_type": "skip"
    }
   },
   "outputs": [],
   "source": []
  },
  {
   "cell_type": "code",
   "execution_count": null,
   "metadata": {
    "slideshow": {
     "slide_type": "skip"
    }
   },
   "outputs": [],
   "source": []
  }
 ],
 "metadata": {
  "celltoolbar": "Slideshow",
  "kernelspec": {
   "display_name": "Python 3",
   "language": "python",
   "name": "python3"
  },
  "language_info": {
   "codemirror_mode": {
    "name": "ipython",
    "version": 3
   },
   "file_extension": ".py",
   "mimetype": "text/x-python",
   "name": "python",
   "nbconvert_exporter": "python",
   "pygments_lexer": "ipython3",
   "version": "3.7.0"
  }
 },
 "nbformat": 4,
 "nbformat_minor": 1
}
