{
 "cells": [
  {
   "cell_type": "markdown",
   "metadata": {},
   "source": [
    "# Exercise — calculate the n-th prime number using the brute-force approach"
   ]
  },
  {
   "cell_type": "code",
   "execution_count": null,
   "metadata": {},
   "outputs": [],
   "source": [
    "def nth_prime(n):\n",
    "    n_found = 0\n",
    "    candidate = 2\n",
    "    while True:\n",
    "        good = True\n",
    "        for div in range(2, candidate):\n",
    "            if candidate % div == 0:\n",
    "                good = False\n",
    "                break\n",
    "        if good:\n",
    "            n_found += 1\n",
    "            if n_found == n:\n",
    "                return candidate\n",
    "        # try with the next number\n",
    "        candidate += 1"
   ]
  },
  {
   "cell_type": "code",
   "execution_count": null,
   "metadata": {},
   "outputs": [],
   "source": [
    "assert nth_prime(1) == 2\n",
    "assert nth_prime(2) == 3\n",
    "assert nth_prime(3) == 5\n",
    "assert nth_prime(4) == 7"
   ]
  },
  {
   "cell_type": "code",
   "execution_count": null,
   "metadata": {},
   "outputs": [],
   "source": [
    "%timeit nth_prime(100)"
   ]
  },
  {
   "cell_type": "code",
   "execution_count": null,
   "metadata": {},
   "outputs": [],
   "source": [
    "%load_ext cython"
   ]
  },
  {
   "cell_type": "code",
   "execution_count": null,
   "metadata": {},
   "outputs": [],
   "source": [
    "%%cython -a\n",
    "\n",
    "def nth_prime_cy(unsigned n):\n",
    "    cdef unsigned n_found = 0\n",
    "    cdef unsigned candidate = 2\n",
    "    cdef unsigned div\n",
    "    while True:\n",
    "        good = True\n",
    "        for div in range(2, candidate):\n",
    "            if candidate % div == 0:\n",
    "                good = False\n",
    "                break\n",
    "        if good:\n",
    "            n_found += 1\n",
    "            if n_found == n:\n",
    "                return candidate\n",
    "        # try with the next number\n",
    "        candidate += 1"
   ]
  },
  {
   "cell_type": "code",
   "execution_count": null,
   "metadata": {},
   "outputs": [],
   "source": [
    "%timeit nth_prime_cy(100)"
   ]
  },
  {
   "cell_type": "code",
   "execution_count": null,
   "metadata": {},
   "outputs": [],
   "source": []
  }
 ],
 "metadata": {
  "kernelspec": {
   "display_name": "Python 3",
   "language": "python",
   "name": "python3"
  },
  "language_info": {
   "codemirror_mode": {
    "name": "ipython",
    "version": 3
   },
   "file_extension": ".py",
   "mimetype": "text/x-python",
   "name": "python",
   "nbconvert_exporter": "python",
   "pygments_lexer": "ipython3",
   "version": "3.7.0"
  }
 },
 "nbformat": 4,
 "nbformat_minor": 2
}
