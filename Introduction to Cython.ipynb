{
 "cells": [
  {
   "cell_type": "markdown",
   "metadata": {},
   "source": [
    "# Intro to Cython"
   ]
  },
  {
   "cell_type": "markdown",
   "metadata": {},
   "source": [
    "# Why Cython\n",
    "\n",
    "![DevTime](whycython.png)"
   ]
  },
  {
   "cell_type": "markdown",
   "metadata": {},
   "source": [
    "Outline:\n",
    "\n",
    "* Speed up Python code\n",
    "* Interact with NumPy arrays\n",
    "* Release GIL and get parallel performance\n",
    "* Wrap C/C++ code"
   ]
  },
  {
   "cell_type": "markdown",
   "metadata": {},
   "source": [
    "# Part 1: speed up your Python code"
   ]
  },
  {
   "cell_type": "markdown",
   "metadata": {},
   "source": [
    "We want to integrate the function $f(x) = x^4 - 3x$."
   ]
  },
  {
   "cell_type": "code",
   "execution_count": null,
   "metadata": {
    "collapsed": true
   },
   "outputs": [],
   "source": [
    "def f(x):\n",
    "    y = x**4 - 3*x\n",
    "    return y\n",
    "    \n",
    "def integrate_f(a, b, n):\n",
    "    dx = (b - a) / n\n",
    "    dx2 = dx / 2\n",
    "    s = f(a) * dx2\n",
    "    for i in range(1, n):\n",
    "        s += f(a + i * dx) * dx\n",
    "    s += f(b) * dx2\n",
    "    return s"
   ]
  },
  {
   "cell_type": "markdown",
   "metadata": {},
   "source": [
    "Now, let's time this:"
   ]
  },
  {
   "cell_type": "code",
   "execution_count": null,
   "metadata": {
    "collapsed": false
   },
   "outputs": [],
   "source": [
    "%timeit integrate_f(-100, 100, int(1e5))"
   ]
  },
  {
   "cell_type": "markdown",
   "metadata": {},
   "source": [
    "Not too bad, but this can add up. Let's see if Cython can do better:"
   ]
  },
  {
   "cell_type": "code",
   "execution_count": null,
   "metadata": {
    "collapsed": true
   },
   "outputs": [],
   "source": [
    "%load_ext cython"
   ]
  },
  {
   "cell_type": "code",
   "execution_count": null,
   "metadata": {
    "collapsed": false
   },
   "outputs": [],
   "source": [
    "%%cython\n",
    "\n",
    "def f2(x):\n",
    "    y = x**4 - 3*x\n",
    "    return y\n",
    "    \n",
    "def integrate_f2(a, b, n):\n",
    "    dx = (b - a) / n\n",
    "    dx2 = dx / 2\n",
    "    s = f2(a) * dx2\n",
    "    for i in range(1, n):\n",
    "        s += f2(a + i * dx) * dx\n",
    "    s += f2(b) * dx2\n",
    "    return s"
   ]
  },
  {
   "cell_type": "code",
   "execution_count": null,
   "metadata": {
    "collapsed": false
   },
   "outputs": [],
   "source": [
    "%timeit integrate_f2(-100, 100, int(1e5))"
   ]
  },
  {
   "cell_type": "markdown",
   "metadata": {},
   "source": [
    "That's a little bit faster, which is nice since all we did was to call Cython on the exact same code. But can we do better?"
   ]
  },
  {
   "cell_type": "code",
   "execution_count": null,
   "metadata": {
    "collapsed": false
   },
   "outputs": [],
   "source": [
    "%%cython\n",
    "\n",
    "def f3(double x):\n",
    "    y = x**4 - 3*x\n",
    "    return y\n",
    "    \n",
    "def integrate_f3(double a, double b, int n):\n",
    "    dx = (b - a) / n\n",
    "    dx2 = dx / 2\n",
    "    s = f3(a) * dx2\n",
    "    for i in range(1, n):\n",
    "        s += f3(a + i * dx) * dx\n",
    "    s += f3(b) * dx2\n",
    "    return s"
   ]
  },
  {
   "cell_type": "code",
   "execution_count": null,
   "metadata": {
    "collapsed": false
   },
   "outputs": [],
   "source": [
    "%timeit integrate_f3(-100, 100, int(1e5))"
   ]
  },
  {
   "cell_type": "markdown",
   "metadata": {},
   "source": [
    "The final bit of \"easy\" Cython optimization is \"declaring\" the variables inside the function:"
   ]
  },
  {
   "cell_type": "code",
   "execution_count": null,
   "metadata": {
    "collapsed": false
   },
   "outputs": [],
   "source": [
    "%%cython\n",
    "\n",
    "def f4(double x):\n",
    "    y = x**4 - 3*x\n",
    "    return y\n",
    "    \n",
    "def integrate_f4(double a, double b, int n):\n",
    "    cdef:\n",
    "        double dx = (b - a) / n\n",
    "        double dx2 = dx / 2\n",
    "        double s = f4(a) * dx2\n",
    "        int i = 0\n",
    "    for i in range(1, n):\n",
    "        s += f4(a + i * dx) * dx\n",
    "    s += f4(b) * dx2\n",
    "    return s"
   ]
  },
  {
   "cell_type": "code",
   "execution_count": null,
   "metadata": {
    "collapsed": false
   },
   "outputs": [],
   "source": [
    "%timeit integrate_f4(-100, 100, int(1e5))"
   ]
  },
  {
   "cell_type": "markdown",
   "metadata": {},
   "source": [
    "4X speedup with so little effort is pretty nice. What else can we do?\n",
    "\n",
    "Cython has a nice \"-a\" flag (for annotation) that can provide clues about why your code is slow."
   ]
  },
  {
   "cell_type": "code",
   "execution_count": null,
   "metadata": {
    "collapsed": false
   },
   "outputs": [],
   "source": [
    "%%cython -a\n",
    "\n",
    "def f4(double x):\n",
    "    y = x**4 - 3*x\n",
    "    return y\n",
    "    \n",
    "def integrate_f4(double a, double b, int n):\n",
    "    cdef:\n",
    "        double dx = (b - a) / n\n",
    "        double dx2 = dx / 2\n",
    "        double s = f4(a) * dx2\n",
    "        int i = 0\n",
    "    for i in range(1, n):\n",
    "        s += f4(a + i * dx) * dx\n",
    "    s += f4(b) * dx2\n",
    "    return s"
   ]
  },
  {
   "cell_type": "markdown",
   "metadata": {},
   "source": [
    "That's a lot of yellow still! How do we reduce this?"
   ]
  },
  {
   "cell_type": "markdown",
   "metadata": {},
   "source": [
    "### Exercise: change the `f4` declaration to C"
   ]
  },
  {
   "cell_type": "code",
   "execution_count": null,
   "metadata": {
    "collapsed": true
   },
   "outputs": [],
   "source": []
  },
  {
   "cell_type": "markdown",
   "metadata": {},
   "source": [
    "# Part 2: work with NumPy arrays"
   ]
  },
  {
   "cell_type": "markdown",
   "metadata": {},
   "source": [
    "This is a very small subset of Python. Most scientific application deal not with single values, but with arrays of data."
   ]
  },
  {
   "cell_type": "code",
   "execution_count": null,
   "metadata": {
    "collapsed": true
   },
   "outputs": [],
   "source": [
    "import numpy as np\n",
    "\n",
    "def mean3filter(arr):\n",
    "    arr_out = np.empty_like(arr)\n",
    "    for i in range(1, arr.shape[0] - 1):\n",
    "        arr_out[i] = np.sum(arr[i-1 : i+1]) / 3\n",
    "    arr_out[0] = (arr[0] + arr[1]) / 2\n",
    "    arr_out[-1] = (arr[-1] + arr[-2]) / 2\n",
    "    return arr_out"
   ]
  },
  {
   "cell_type": "code",
   "execution_count": null,
   "metadata": {
    "collapsed": false
   },
   "outputs": [],
   "source": [
    "%timeit mean3filter(np.random.rand(1e5))"
   ]
  },
  {
   "cell_type": "code",
   "execution_count": null,
   "metadata": {
    "collapsed": false
   },
   "outputs": [],
   "source": [
    "%%cython\n",
    "import cython\n",
    "import numpy as np\n",
    "\n",
    "@cython.boundscheck(False)\n",
    "def mean3filter2(double[::1] arr):\n",
    "    cdef double[::1] arr_out = np.empty_like(arr)\n",
    "    cdef int i\n",
    "    for i in range(1, arr.shape[0]-1):\n",
    "        arr_out[i] = np.sum(arr[i-1 : i+1]) / 3\n",
    "    arr_out[0] = (arr[0] + arr[1]) / 2\n",
    "    arr_out[-1] = (arr[-1] + arr[-2]) / 2\n",
    "    return np.asarray(arr_out)"
   ]
  },
  {
   "cell_type": "code",
   "execution_count": null,
   "metadata": {
    "collapsed": false
   },
   "outputs": [],
   "source": [
    "%timeit mean3filter2(np.random.rand(1e5))"
   ]
  },
  {
   "cell_type": "markdown",
   "metadata": {},
   "source": [
    "Rubbish! How do we fix this?"
   ]
  },
  {
   "cell_type": "markdown",
   "metadata": {},
   "source": [
    "### Exercise: use `%%cython -a` to speed up the code"
   ]
  },
  {
   "cell_type": "code",
   "execution_count": null,
   "metadata": {
    "collapsed": true
   },
   "outputs": [],
   "source": []
  },
  {
   "cell_type": "markdown",
   "metadata": {},
   "source": [
    "# Part 3: write parallel code"
   ]
  },
  {
   "cell_type": "markdown",
   "metadata": {
    "collapsed": true
   },
   "source": [
    "**Warning:**: Dragons afoot."
   ]
  },
  {
   "cell_type": "code",
   "execution_count": null,
   "metadata": {
    "collapsed": false
   },
   "outputs": [],
   "source": [
    "%%cython -a\n",
    "import cython\n",
    "from cython.parallel import prange\n",
    "import numpy as np\n",
    "\n",
    "@cython.boundscheck(False)\n",
    "def mean3filter3(double[::1] arr, double[::1] out):\n",
    "    cdef int i, j, k = arr.shape[0]-1\n",
    "    with nogil:\n",
    "        for i in prange(1, k-1, schedule='static',\n",
    "                        chunksize=(k-2) // 2, num_threads=2):\n",
    "            for j in range(i-1, i+1):\n",
    "                out[i] += arr[j]\n",
    "            out[i] /= 3\n",
    "    out[0] = (arr[0] + arr[1]) / 2\n",
    "    out[-1] = (arr[-1] + arr[-2]) / 2\n",
    "    return np.asarray(out)"
   ]
  },
  {
   "cell_type": "code",
   "execution_count": null,
   "metadata": {
    "collapsed": true
   },
   "outputs": [],
   "source": [
    "rin = np.random.rand(1e7)\n",
    "rout = np.empty_like(rin)"
   ]
  },
  {
   "cell_type": "code",
   "execution_count": null,
   "metadata": {
    "collapsed": false
   },
   "outputs": [],
   "source": [
    "%timeit mean3filter2(rin, rout)"
   ]
  },
  {
   "cell_type": "code",
   "execution_count": null,
   "metadata": {
    "collapsed": false
   },
   "outputs": [],
   "source": [
    "%timeit mean3filter3(rin, rout)"
   ]
  },
  {
   "cell_type": "markdown",
   "metadata": {},
   "source": [
    "### Exercise (if time)\n",
    "\n",
    "Write a parallel matrix multiplication routine."
   ]
  },
  {
   "cell_type": "code",
   "execution_count": null,
   "metadata": {
    "collapsed": true
   },
   "outputs": [],
   "source": []
  },
  {
   "cell_type": "markdown",
   "metadata": {},
   "source": [
    "# Part 4: interact with C/C++ code"
   ]
  },
  {
   "cell_type": "code",
   "execution_count": null,
   "metadata": {
    "collapsed": false
   },
   "outputs": [],
   "source": [
    "%%cython -a\n",
    "# distutils: language=c++\n",
    "import cython\n",
    "from libcpp.vector cimport vector\n",
    "\n",
    "\n",
    "@cython.boundscheck(False)\n",
    "def build_list_with_vector(double[::1] in_arr):\n",
    "    cdef vector[double] out\n",
    "    cdef int i\n",
    "    for i in range(in_arr.shape[0]):\n",
    "        out.push_back(in_arr[i])\n",
    "    return out"
   ]
  },
  {
   "cell_type": "code",
   "execution_count": null,
   "metadata": {
    "collapsed": false
   },
   "outputs": [],
   "source": [
    "build_list_with_vector(np.random.rand(10))"
   ]
  },
  {
   "cell_type": "markdown",
   "metadata": {},
   "source": [
    "## Example: C++ int graph"
   ]
  },
  {
   "cell_type": "code",
   "execution_count": null,
   "metadata": {
    "collapsed": false
   },
   "outputs": [],
   "source": [
    "%%cython -a\n",
    "#distutils: language=c++\n",
    "from cython.operator cimport dereference as deref, preincrement as inc\n",
    "\n",
    "from libcpp.vector cimport vector\n",
    "from libcpp.map cimport map as cppmap\n",
    "\n",
    "cdef class Graph:\n",
    "    cdef cppmap[int, vector[int]] _adj\n",
    "    \n",
    "    cpdef int has_node(self, int node):\n",
    "        return self._adj.find(node) != self._adj.end()\n",
    "    \n",
    "    cdef void add_node(self, int new_node):\n",
    "        cdef vector[int] out\n",
    "        if not self.has_node(new_node):\n",
    "            self._adj[new_node] = out\n",
    "            \n",
    "    def add_edge(self, int u, int v):\n",
    "        self.add_node(u)\n",
    "        self.add_node(v)\n",
    "        self._adj[u].push_back(v)\n",
    "        self._adj[v].push_back(u)\n",
    "        \n",
    "    def __getitem__(self, int u):\n",
    "        return self._adj[u]\n",
    "    \n",
    "    cdef vector[int] _degrees(self):\n",
    "        cdef vector[int] deg\n",
    "        cdef int first = 0\n",
    "        cdef vector[int] edges\n",
    "        cdef cppmap[int, vector[int]].iterator it = self._adj.begin()\n",
    "        while it != self._adj.end():\n",
    "            deg.push_back(deref(it).second.size())\n",
    "            it = inc(it)\n",
    "        return deg\n",
    "            \n",
    "    def degrees(self):\n",
    "        return self._degrees()\n",
    "        "
   ]
  },
  {
   "cell_type": "code",
   "execution_count": null,
   "metadata": {
    "collapsed": true
   },
   "outputs": [],
   "source": [
    "g0 = Graph()"
   ]
  },
  {
   "cell_type": "code",
   "execution_count": null,
   "metadata": {
    "collapsed": false
   },
   "outputs": [],
   "source": [
    "g0.add_edge(1, 5)\n",
    "g0.add_edge(1, 6)"
   ]
  },
  {
   "cell_type": "code",
   "execution_count": null,
   "metadata": {
    "collapsed": false
   },
   "outputs": [],
   "source": [
    "g0[1]"
   ]
  },
  {
   "cell_type": "code",
   "execution_count": null,
   "metadata": {
    "collapsed": false
   },
   "outputs": [],
   "source": [
    "g0.has_node(1)"
   ]
  },
  {
   "cell_type": "code",
   "execution_count": null,
   "metadata": {
    "collapsed": false
   },
   "outputs": [],
   "source": [
    "g0.degrees()"
   ]
  },
  {
   "cell_type": "code",
   "execution_count": null,
   "metadata": {
    "collapsed": true
   },
   "outputs": [],
   "source": [
    "import networkx as nx\n",
    "g = nx.barabasi_albert_graph(100000, 6)\n",
    "with open('graph.txt', 'w') as fout:\n",
    "    for u, v in g.edges_iter():\n",
    "        fout.write('%i,%i\\n' % (u, v))"
   ]
  },
  {
   "cell_type": "code",
   "execution_count": null,
   "metadata": {
    "collapsed": false
   },
   "outputs": [],
   "source": [
    "%timeit list(g.degree())"
   ]
  },
  {
   "cell_type": "code",
   "execution_count": null,
   "metadata": {
    "collapsed": true
   },
   "outputs": [],
   "source": [
    "myg = Graph()\n",
    "def line2edges(line):\n",
    "    u, v = map(int, line.rstrip().split(','))\n",
    "    return u, v\n",
    "\n",
    "edges = map(line2edges, open('graph.txt'))\n",
    "\n",
    "for u, v in edges:\n",
    "    myg.add_edge(u, v)"
   ]
  },
  {
   "cell_type": "code",
   "execution_count": null,
   "metadata": {
    "collapsed": false
   },
   "outputs": [],
   "source": [
    "%timeit mydeg = myg.degrees()"
   ]
  },
  {
   "cell_type": "markdown",
   "metadata": {},
   "source": [
    "# Using Cython in production code"
   ]
  },
  {
   "cell_type": "markdown",
   "metadata": {},
   "source": [
    "Use `setup.py` to build your Cython files."
   ]
  },
  {
   "cell_type": "markdown",
   "metadata": {
    "collapsed": true
   },
   "source": [
    "```python\n",
    "from distutils.core import setup\n",
    "from distutils.extension import Extension\n",
    "from Cython.Distutils import build_ext\n",
    "\n",
    "import numpy as np\n",
    "\n",
    "setup(\n",
    "  cmdclass = {'build_ext': build_ext},\n",
    "  ext_modules = [\n",
    "    Extension(\"prange_demo\", [\"prange_demo.pyx\"],\n",
    "              include_dirs=[np.get_include()],\n",
    "              extra_compile_args=['-fopenmp'],\n",
    "              extra_link_args=['-fopenmp', '-lgomp']),\n",
    "  ]\n",
    ")\n",
    "```"
   ]
  },
  {
   "cell_type": "markdown",
   "metadata": {
    "collapsed": true
   },
   "source": [
    "### Exercise\n",
    "\n",
    "Write a Cython module with a setup.py to run the mean-3 filter, then import from the notebook."
   ]
  },
  {
   "cell_type": "code",
   "execution_count": null,
   "metadata": {
    "collapsed": true
   },
   "outputs": [],
   "source": [
    "from mean3 import mean3filter\n",
    "mean3filter(np.random.rand(10))"
   ]
  },
  {
   "cell_type": "markdown",
   "metadata": {},
   "source": [
    "# Complete aside: modernizing Python 2 code"
   ]
  },
  {
   "cell_type": "code",
   "execution_count": null,
   "metadata": {
    "collapsed": true
   },
   "outputs": [],
   "source": []
  }
 ],
 "metadata": {
  "kernelspec": {
   "display_name": "Python 3",
   "language": "python",
   "name": "python3"
  },
  "language_info": {
   "codemirror_mode": {
    "name": "ipython",
    "version": 3
   },
   "file_extension": ".py",
   "mimetype": "text/x-python",
   "name": "python",
   "nbconvert_exporter": "python",
   "pygments_lexer": "ipython3",
   "version": "3.4.3"
  }
 },
 "nbformat": 4,
 "nbformat_minor": 0
}
